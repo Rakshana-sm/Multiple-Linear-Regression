{
  "nbformat": 4,
  "nbformat_minor": 0,
  "metadata": {
    "colab": {
      "name": "Medical Cost Prediction.ipynb",
      "provenance": []
    },
    "kernelspec": {
      "name": "python3",
      "display_name": "Python 3"
    }
  },
  "cells": [
    {
      "cell_type": "markdown",
      "metadata": {
        "id": "OR2FehHU99Zy",
        "colab_type": "text"
      },
      "source": [
        "#**MULTIPLE LINEAR REGRESSION**"
      ]
    },
    {
      "cell_type": "markdown",
      "metadata": {
        "id": "McsrdvPKA-o2",
        "colab_type": "text"
      },
      "source": [
        "##Medical Cost Prediction for Insurance in the United States"
      ]
    },
    {
      "cell_type": "markdown",
      "metadata": {
        "id": "PlWlQzxTwe-o",
        "colab_type": "text"
      },
      "source": [
        "Importing Libraries"
      ]
    },
    {
      "cell_type": "code",
      "metadata": {
        "id": "qLxv2HAlvS6e",
        "colab_type": "code",
        "colab": {}
      },
      "source": [
        "import pandas as pd\n",
        "import numpy as np\n",
        "import matplotlib.pyplot as plt\n"
      ],
      "execution_count": 52,
      "outputs": []
    },
    {
      "cell_type": "markdown",
      "metadata": {
        "id": "OF41HLgwwsxr",
        "colab_type": "text"
      },
      "source": [
        "Importing Dataset"
      ]
    },
    {
      "cell_type": "code",
      "metadata": {
        "id": "9xcc5ktCwqza",
        "colab_type": "code",
        "colab": {}
      },
      "source": [
        "data = pd.read_csv('/content/datasets_13720_18513_insurance.csv')"
      ],
      "execution_count": 53,
      "outputs": []
    },
    {
      "cell_type": "code",
      "metadata": {
        "id": "7phJR6UHxMNI",
        "colab_type": "code",
        "colab": {
          "base_uri": "https://localhost:8080/",
          "height": 255
        },
        "outputId": "930b67f7-eea0-4d21-f481-744dfe0e22ba"
      },
      "source": [
        "print(data)"
      ],
      "execution_count": 54,
      "outputs": [
        {
          "output_type": "stream",
          "text": [
            "      age     sex     bmi  children smoker     region      charges\n",
            "0      19  female  27.900         0    yes  southwest  16884.92400\n",
            "1      18    male  33.770         1     no  southeast   1725.55230\n",
            "2      28    male  33.000         3     no  southeast   4449.46200\n",
            "3      33    male  22.705         0     no  northwest  21984.47061\n",
            "4      32    male  28.880         0     no  northwest   3866.85520\n",
            "...   ...     ...     ...       ...    ...        ...          ...\n",
            "1333   50    male  30.970         3     no  northwest  10600.54830\n",
            "1334   18  female  31.920         0     no  northeast   2205.98080\n",
            "1335   18  female  36.850         0     no  southeast   1629.83350\n",
            "1336   21  female  25.800         0     no  southwest   2007.94500\n",
            "1337   61  female  29.070         0    yes  northwest  29141.36030\n",
            "\n",
            "[1338 rows x 7 columns]\n"
          ],
          "name": "stdout"
        }
      ]
    },
    {
      "cell_type": "code",
      "metadata": {
        "id": "TGVpqyrWxNlm",
        "colab_type": "code",
        "colab": {}
      },
      "source": [
        "X = data.iloc[:,:-1].values\n",
        "Y = data.iloc[:,-1].values"
      ],
      "execution_count": 55,
      "outputs": []
    },
    {
      "cell_type": "code",
      "metadata": {
        "id": "mfpYPdXGxbVd",
        "colab_type": "code",
        "colab": {
          "base_uri": "https://localhost:8080/",
          "height": 136
        },
        "outputId": "3ec34d70-1e60-47a2-c9e9-272f7de9dac1"
      },
      "source": [
        "print(X)"
      ],
      "execution_count": 56,
      "outputs": [
        {
          "output_type": "stream",
          "text": [
            "[[19 'female' 27.9 0 'yes' 'southwest']\n",
            " [18 'male' 33.77 1 'no' 'southeast']\n",
            " [28 'male' 33.0 3 'no' 'southeast']\n",
            " ...\n",
            " [18 'female' 36.85 0 'no' 'southeast']\n",
            " [21 'female' 25.8 0 'no' 'southwest']\n",
            " [61 'female' 29.07 0 'yes' 'northwest']]\n"
          ],
          "name": "stdout"
        }
      ]
    },
    {
      "cell_type": "code",
      "metadata": {
        "id": "QnesvXTYxdMj",
        "colab_type": "code",
        "colab": {
          "base_uri": "https://localhost:8080/",
          "height": 34
        },
        "outputId": "22a378ad-f167-4969-95dd-cf457282ae6d"
      },
      "source": [
        "print(Y)"
      ],
      "execution_count": 57,
      "outputs": [
        {
          "output_type": "stream",
          "text": [
            "[16884.92  1725.55  4449.46 ...  1629.83  2007.94 29141.36]\n"
          ],
          "name": "stdout"
        }
      ]
    },
    {
      "cell_type": "markdown",
      "metadata": {
        "id": "05mZ8Croy3fG",
        "colab_type": "text"
      },
      "source": [
        "Cleaning Data"
      ]
    },
    {
      "cell_type": "code",
      "metadata": {
        "id": "Xc26SAPmxlNd",
        "colab_type": "code",
        "colab": {
          "base_uri": "https://localhost:8080/",
          "height": 34
        },
        "outputId": "3d4a9dee-9a78-421b-e0b1-90fbb39dd01f"
      },
      "source": [
        "null_columns=data.isnull().values.any()\n",
        "print(null_columns)"
      ],
      "execution_count": 58,
      "outputs": [
        {
          "output_type": "stream",
          "text": [
            "False\n"
          ],
          "name": "stdout"
        }
      ]
    },
    {
      "cell_type": "markdown",
      "metadata": {
        "id": "4sQHz84izEOu",
        "colab_type": "text"
      },
      "source": [
        "One-hot Encoding"
      ]
    },
    {
      "cell_type": "code",
      "metadata": {
        "id": "ci_hHFIqzCjd",
        "colab_type": "code",
        "colab": {}
      },
      "source": [
        "from sklearn.compose import ColumnTransformer\n",
        "from sklearn.preprocessing import OneHotEncoder\n",
        "ct = ColumnTransformer(transformers=[('encoder', OneHotEncoder(), [1,4,5])], remainder='passthrough') \n",
        "X = np.array(ct.fit_transform(X)) "
      ],
      "execution_count": 59,
      "outputs": []
    },
    {
      "cell_type": "code",
      "metadata": {
        "id": "YHWPnXJ-3sEd",
        "colab_type": "code",
        "colab": {
          "base_uri": "https://localhost:8080/",
          "height": 255
        },
        "outputId": "c8e9c997-2281-4bac-ecf9-6e820034d40d"
      },
      "source": [
        "test_data_frame = pd.DataFrame(X)\n",
        "print(test_data_frame)"
      ],
      "execution_count": 60,
      "outputs": [
        {
          "output_type": "stream",
          "text": [
            "      0  1  2  3  4  5  6  7   8       9 10\n",
            "0     1  0  0  1  0  0  0  1  19    27.9  0\n",
            "1     0  1  1  0  0  0  1  0  18   33.77  1\n",
            "2     0  1  1  0  0  0  1  0  28      33  3\n",
            "3     0  1  1  0  0  1  0  0  33  22.705  0\n",
            "4     0  1  1  0  0  1  0  0  32   28.88  0\n",
            "...  .. .. .. .. .. .. .. ..  ..     ... ..\n",
            "1333  0  1  1  0  0  1  0  0  50   30.97  3\n",
            "1334  1  0  1  0  1  0  0  0  18   31.92  0\n",
            "1335  1  0  1  0  0  0  1  0  18   36.85  0\n",
            "1336  1  0  1  0  0  0  0  1  21    25.8  0\n",
            "1337  1  0  0  1  0  1  0  0  61   29.07  0\n",
            "\n",
            "[1338 rows x 11 columns]\n"
          ],
          "name": "stdout"
        }
      ]
    },
    {
      "cell_type": "markdown",
      "metadata": {
        "id": "kTzr9o622ENn",
        "colab_type": "text"
      },
      "source": [
        "Splitting Training and Testing Data"
      ]
    },
    {
      "cell_type": "code",
      "metadata": {
        "id": "K8lkZIew1WNg",
        "colab_type": "code",
        "colab": {}
      },
      "source": [
        "from sklearn.model_selection import train_test_split\n",
        "X_train, X_test, Y_train, Y_test = train_test_split(X,Y,test_size=0.2,random_state=1)"
      ],
      "execution_count": 61,
      "outputs": []
    },
    {
      "cell_type": "markdown",
      "metadata": {
        "id": "ZN2iACfE35S_",
        "colab_type": "text"
      },
      "source": [
        "Feature Scaling - Standardizing"
      ]
    },
    {
      "cell_type": "code",
      "metadata": {
        "id": "jvEleqyr3Sur",
        "colab_type": "code",
        "colab": {}
      },
      "source": [
        "from sklearn.preprocessing import StandardScaler\n",
        "sc = StandardScaler()\n",
        "X_train[:,8:] = sc.fit_transform(X_train[:,8:])\n",
        "X_test[:,8:] = sc.transform(X_test[:,8:])"
      ],
      "execution_count": 63,
      "outputs": []
    },
    {
      "cell_type": "markdown",
      "metadata": {
        "id": "DqmhYUF-4von",
        "colab_type": "text"
      },
      "source": [
        "Training the Model"
      ]
    },
    {
      "cell_type": "code",
      "metadata": {
        "id": "bQK_JUZd4pws",
        "colab_type": "code",
        "colab": {
          "base_uri": "https://localhost:8080/",
          "height": 34
        },
        "outputId": "01303186-b67a-45cb-dd1f-ebbb6c93184c"
      },
      "source": [
        "from sklearn.linear_model import LinearRegression\n",
        "mlr = LinearRegression()\n",
        "mlr.fit(X_train, Y_train)"
      ],
      "execution_count": 64,
      "outputs": [
        {
          "output_type": "execute_result",
          "data": {
            "text/plain": [
              "LinearRegression(copy_X=True, fit_intercept=True, n_jobs=None, normalize=False)"
            ]
          },
          "metadata": {
            "tags": []
          },
          "execution_count": 64
        }
      ]
    },
    {
      "cell_type": "markdown",
      "metadata": {
        "id": "24y_STL75F4u",
        "colab_type": "text"
      },
      "source": [
        "Predicting results from the trained model"
      ]
    },
    {
      "cell_type": "code",
      "metadata": {
        "id": "pWWvaLON5Cm1",
        "colab_type": "code",
        "colab": {
          "base_uri": "https://localhost:8080/",
          "height": 1000
        },
        "outputId": "0782e89b-649d-40c0-e750-440e8b0ba5d0"
      },
      "source": [
        "Y_pred = mlr.predict(X_test)\n",
        "np.set_printoptions(precision=2)\n",
        "print(np.concatenate((Y_pred.reshape(len(Y_pred),1),Y_test.reshape(len(Y_test),1)),1))"
      ],
      "execution_count": 65,
      "outputs": [
        {
          "output_type": "stream",
          "text": [
            "[[ 4320.    1646.43]\n",
            " [12848.   11353.23]\n",
            " [12640.    8798.59]\n",
            " [13568.   10381.48]\n",
            " [  400.    2103.08]\n",
            " [31712.   38746.36]\n",
            " [13232.    9304.7 ]\n",
            " [12416.   11658.12]\n",
            " [ 3824.    3070.81]\n",
            " [29520.   19539.24]\n",
            " [11328.   12629.9 ]\n",
            " [17600.   11538.42]\n",
            " [ 8944.    6338.08]\n",
            " [ 8304.    7050.64]\n",
            " [ 3456.    1137.47]\n",
            " [10368.    8968.33]\n",
            " [ 3728.   21984.47]\n",
            " [ 6800.    6414.18]\n",
            " [15392.   28287.9 ]\n",
            " [14496.   13462.52]\n",
            " [12672.    9722.77]\n",
            " [32992.   40932.43]\n",
            " [ 9008.    8026.67]\n",
            " [ 8960.    8444.47]\n",
            " [ 3088.    2203.47]\n",
            " [ 8032.    6664.69]\n",
            " [ 9520.    8606.22]\n",
            " [11120.    8283.68]\n",
            " [ 7632.    5375.04]\n",
            " [ 4416.    3645.09]\n",
            " [14160.   11674.13]\n",
            " [ 5680.   11737.85]\n",
            " [34336.   24873.38]\n",
            " [26688.   33750.29]\n",
            " [33296.   24180.93]\n",
            " [ 9424.    9863.47]\n",
            " [30176.   36837.47]\n",
            " [26176.   17942.11]\n",
            " [15584.   11856.41]\n",
            " [33552.   39725.52]\n",
            " [ 6576.    4349.46]\n",
            " [14032.   11743.93]\n",
            " [10928.   19749.38]\n",
            " [15120.   12347.17]\n",
            " [ 4048.    4931.65]\n",
            " [13216.   30260.  ]\n",
            " [ 4640.   27724.29]\n",
            " [28704.   34672.15]\n",
            " [ 7104.    9644.25]\n",
            " [14208.   14394.4 ]\n",
            " [13648.   12557.61]\n",
            " [12272.   11881.36]\n",
            " [ 1712.    2352.97]\n",
            " [ 8736.    9101.8 ]\n",
            " [25872.   17178.68]\n",
            " [10560.    3994.18]\n",
            " [34224.   40941.29]\n",
            " [14592.   12644.59]\n",
            " [ 3168.   22395.74]\n",
            " [ 6288.    1149.4 ]\n",
            " [ 6928.    3366.67]\n",
            " [15088.   13143.34]\n",
            " [26960.   18328.24]\n",
            " [ 3168.    2690.11]\n",
            " [15968.   12741.17]\n",
            " [11136.    8765.25]\n",
            " [10944.   10264.44]\n",
            " [10736.   22192.44]\n",
            " [ 1344.    2709.24]\n",
            " [25024.   14571.89]\n",
            " [37184.   60021.4 ]\n",
            " [32992.   58571.07]\n",
            " [ 1952.    1743.21]\n",
            " [11152.   12479.71]\n",
            " [13632.   13352.1 ]\n",
            " [34848.   41034.22]\n",
            " [ 3040.    2789.06]\n",
            " [ 4176.    2867.12]\n",
            " [10336.   11070.53]\n",
            " [10272.   10493.95]\n",
            " [ -160.    3167.46]\n",
            " [13984.   12269.69]\n",
            " [10208.   10942.13]\n",
            " [ 3120.    1977.82]\n",
            " [33344.   39125.33]\n",
            " [33232.   42112.24]\n",
            " [ 7088.    7045.5 ]\n",
            " [37840.   46200.99]\n",
            " [12912.   10370.91]\n",
            " [10192.    7749.16]\n",
            " [29776.   20234.85]\n",
            " [33696.   24106.91]\n",
            " [15008.   13919.82]\n",
            " [11120.    8871.15]\n",
            " [   64.    1628.47]\n",
            " [10896.    9487.64]\n",
            " [ 9584.    9861.02]\n",
            " [15312.   12265.51]\n",
            " [14976.   12235.84]\n",
            " [ 6032.    6402.29]\n",
            " [13648.   11356.66]\n",
            " [25680.   15817.99]\n",
            " [27696.   18259.22]\n",
            " [27168.   34779.61]\n",
            " [35392.   27037.91]\n",
            " [26768.   18033.97]\n",
            " [  560.    1737.38]\n",
            " [ 9216.    7441.05]\n",
            " [ 5024.    2219.45]\n",
            " [12560.   11286.54]\n",
            " [ 5648.    4415.16]\n",
            " [ 5040.    3981.98]\n",
            " [  912.    1632.04]\n",
            " [18720.   15555.19]\n",
            " [ 3104.   12609.89]\n",
            " [ 1632.    1253.94]\n",
            " [11616.    6666.24]\n",
            " [12528.   14254.61]\n",
            " [11872.   19496.72]\n",
            " [ 3648.    2261.57]\n",
            " [ 8880.    8932.08]\n",
            " [13904.   10736.87]\n",
            " [ 8032.    5976.83]\n",
            " [ 6512.    7147.1 ]\n",
            " [36736.   43813.87]\n",
            " [12080.    9563.03]\n",
            " [12208.   13047.33]\n",
            " [29248.   19362.  ]\n",
            " [36160.   43896.38]\n",
            " [11600.    7740.34]\n",
            " [28256.   36307.8 ]\n",
            " [ -576.    1832.09]\n",
            " [ 8240.    7144.86]\n",
            " [31712.   38282.75]\n",
            " [ 8256.   24603.05]\n",
            " [ -784.    1731.68]\n",
            " [ 1040.    1632.56]\n",
            " [ 4992.    1631.82]\n",
            " [ 7456.    9991.04]\n",
            " [12752.    7935.29]\n",
            " [14992.   14043.48]\n",
            " [ 8928.    5934.38]\n",
            " [28896.   18972.49]\n",
            " [16128.   14313.85]\n",
            " [14736.   13607.37]\n",
            " [11040.   10594.5 ]\n",
            " [ 2160.    1719.44]\n",
            " [ 9968.    7954.52]\n",
            " [ 4080.    1727.54]\n",
            " [ 5968.    6686.43]\n",
            " [11760.    7152.67]\n",
            " [ 5344.    3877.3 ]\n",
            " [14512.   33471.97]\n",
            " [13776.   11879.1 ]\n",
            " [13104.    7804.16]\n",
            " [ 6992.    5969.72]\n",
            " [12464.    9964.06]\n",
            " [10976.    9957.72]\n",
            " [10304.    9447.38]\n",
            " [ 4544.    1826.84]\n",
            " [ 5968.    3704.35]\n",
            " [40512.   49577.66]\n",
            " [13392.   11946.63]\n",
            " [ 4240.    2904.09]\n",
            " [ 8272.    6128.8 ]\n",
            " [ 5040.    1534.3 ]\n",
            " [32304.   38709.18]\n",
            " [11216.   10436.1 ]\n",
            " [10960.   11073.18]\n",
            " [ 6960.    5469.01]\n",
            " [ 6352.    5152.13]\n",
            " [ 6656.    3556.92]\n",
            " [32896.   22412.65]\n",
            " [34560.   25678.78]\n",
            " [ 2016.    3353.47]\n",
            " [ 7680.    6555.07]\n",
            " [ 5168.    2416.95]\n",
            " [15552.   14590.63]\n",
            " [ 1440.    3732.63]\n",
            " [11792.    5846.92]\n",
            " [13552.   12731.  ]\n",
            " [11552.   13616.36]\n",
            " [10496.    8988.16]\n",
            " [13360.    7650.77]\n",
            " [ 2208.    3594.17]\n",
            " [27616.   18246.5 ]\n",
            " [ 2656.    2155.68]\n",
            " [15184.    8569.86]\n",
            " [ 6144.    7526.71]\n",
            " [10480.    9222.4 ]\n",
            " [14864.   14119.62]\n",
            " [38992.   47269.85]\n",
            " [ 2000.    3260.2 ]\n",
            " [ 1312.    2709.11]\n",
            " [ 4944.    6933.24]\n",
            " [ 7488.    9264.8 ]\n",
            " [ 8080.    7243.81]\n",
            " [ 4448.    2134.9 ]\n",
            " [10416.   11520.1 ]\n",
            " [ 9232.    8233.1 ]\n",
            " [ 9712.    6289.75]\n",
            " [11088.    7371.77]\n",
            " [10176.   12094.48]\n",
            " [ 9520.   23563.02]\n",
            " [ 7920.    6457.84]\n",
            " [ 1184.    1615.77]\n",
            " [10224.    6600.21]\n",
            " [ 7584.    7046.72]\n",
            " [ 6768.    1984.45]\n",
            " [11712.   11455.28]\n",
            " [ 5472.    4137.52]\n",
            " [32880.   23244.79]\n",
            " [ 7024.   17128.43]\n",
            " [ 6240.    3987.93]\n",
            " [ 7872.    4670.64]\n",
            " [38656.   47291.06]\n",
            " [12048.   10796.35]\n",
            " [28272.   35595.59]\n",
            " [ 3200.    1136.4 ]\n",
            " [32864.   38998.55]\n",
            " [ 3760.    2459.72]\n",
            " [31632.   21195.82]\n",
            " [13728.   12268.63]\n",
            " [ 2592.    4827.9 ]\n",
            " [ 1792.    1635.73]\n",
            " [ 1168.    1969.61]\n",
            " [ 6032.    4357.04]\n",
            " [ 4464.   10795.94]\n",
            " [25280.   17081.08]\n",
            " [16160.   13887.97]\n",
            " [ 5216.    3579.83]\n",
            " [13264.   14001.29]\n",
            " [39104.   47462.89]\n",
            " [ 4672.    6753.04]\n",
            " [12736.   12096.65]\n",
            " [11344.   10214.64]\n",
            " [27328.   17361.77]\n",
            " [ 2688.    1639.56]\n",
            " [13520.    8342.91]\n",
            " [ 6000.    4074.45]\n",
            " [15648.    8083.92]\n",
            " [ 6160.    2026.97]\n",
            " [17056.   31620.  ]\n",
            " [ 4224.    1981.58]\n",
            " [12560.   20781.49]\n",
            " [34416.   24869.84]\n",
            " [10960.   18806.15]\n",
            " [10576.    8551.35]\n",
            " [ 5168.   18218.16]\n",
            " [16752.   14210.54]\n",
            " [14368.   10959.69]\n",
            " [ 5504.    4441.21]\n",
            " [11472.   12142.58]\n",
            " [12752.   10560.49]\n",
            " [ 4688.    2897.32]\n",
            " [ 7312.    2755.02]\n",
            " [27536.   34617.84]\n",
            " [32032.   22331.57]\n",
            " [ -656.    1625.43]\n",
            " [40192.   48517.56]\n",
            " [ 9664.    8219.2 ]\n",
            " [ 7616.    6940.91]\n",
            " [11008.    8240.59]\n",
            " [33248.   40103.89]\n",
            " [35712.   42983.46]\n",
            " [36752.   44202.65]\n",
            " [ 4928.    2136.88]\n",
            " [ 6160.    5227.99]]\n"
          ],
          "name": "stdout"
        }
      ]
    },
    {
      "cell_type": "markdown",
      "metadata": {
        "id": "5GeI111G9ulf",
        "colab_type": "text"
      },
      "source": [
        "Evaluating the Model"
      ]
    },
    {
      "cell_type": "code",
      "metadata": {
        "id": "WUPfnvJa8umt",
        "colab_type": "code",
        "colab": {
          "base_uri": "https://localhost:8080/",
          "height": 34
        },
        "outputId": "719a40f2-3c23-42fc-d082-12e7db90ad4e"
      },
      "source": [
        "from sklearn import metrics\n",
        "mlr.score(X_test, Y_test)"
      ],
      "execution_count": 76,
      "outputs": [
        {
          "output_type": "execute_result",
          "data": {
            "text/plain": [
              "0.7622133026650104"
            ]
          },
          "metadata": {
            "tags": []
          },
          "execution_count": 76
        }
      ]
    }
  ]
}